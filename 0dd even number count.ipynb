{
 "cells": [
  {
   "cell_type": "code",
   "execution_count": 5,
   "id": "0dd980ae",
   "metadata": {},
   "outputs": [
    {
     "name": "stdout",
     "output_type": "stream",
     "text": [
      "total odd numbers 4\n",
      "total even numbers 5\n"
     ]
    }
   ],
   "source": [
    "#Write a Python program to count the number of even and odd numbers from a series of numbers.\n",
    "# answer\n",
    "numbers = (1, 2, 3, 4, 5, 6, 7, 8, 9)\n",
    "odd=0\n",
    "even=0\n",
    "for i in numbers:\n",
    "    if i%2==0:\n",
    "        odd = odd+1\n",
    "    else:\n",
    "        even = even+1\n",
    "        \n",
    "print(\"total odd numbers 4\")        \n",
    "print(\"total even numbers 5\")"
   ]
  },
  {
   "cell_type": "code",
   "execution_count": null,
   "id": "9928cb86",
   "metadata": {},
   "outputs": [],
   "source": []
  }
 ],
 "metadata": {
  "kernelspec": {
   "display_name": "Python 3 (ipykernel)",
   "language": "python",
   "name": "python3"
  },
  "language_info": {
   "codemirror_mode": {
    "name": "ipython",
    "version": 3
   },
   "file_extension": ".py",
   "mimetype": "text/x-python",
   "name": "python",
   "nbconvert_exporter": "python",
   "pygments_lexer": "ipython3",
   "version": "3.9.12"
  }
 },
 "nbformat": 4,
 "nbformat_minor": 5
}
